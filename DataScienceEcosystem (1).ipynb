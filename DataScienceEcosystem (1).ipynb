{
 "cells": [
  {
   "cell_type": "markdown",
   "id": "0bba9111-942d-4f44-95a2-f782aa225b4b",
   "metadata": {},
   "source": [
    "# Data Science Tools and Ecosystem"
   ]
  },
  {
   "cell_type": "markdown",
   "id": "ee61f943-ac58-4656-9026-9a3c9e11bb50",
   "metadata": {},
   "source": [
    "In this notebook, Data Science Tools and Ecosystem are summarized"
   ]
  },
  {
   "cell_type": "markdown",
   "id": "e43a746c-6b5c-430f-9f49-a90145701242",
   "metadata": {},
   "source": [
    "Some of the popular languages that Data Scientists use are:\n",
    "1. Python\n",
    "2. R\n",
    "3. Julia"
   ]
  },
  {
   "cell_type": "markdown",
   "id": "9a7dc6a0-f7aa-4a91-9663-378055faa306",
   "metadata": {},
   "source": [
    "Some of the commonly used libraries used by Data Scientists include:\n",
    "1. Pandas\n",
    "2. Numpy\n",
    "3. ggplot"
   ]
  },
  {
   "cell_type": "markdown",
   "id": "efe29086-1396-4c6c-8601-d36bdf113b58",
   "metadata": {},
   "source": [
    "| Data Science Tools |  |\n",
    "| -------------| ------ |\n",
    "| Github |\n",
    "| Gitlab |\n",
    "| VS Code |"
   ]
  },
  {
   "cell_type": "markdown",
   "id": "9c1f2ae1-42ac-449e-ae69-eec13eb7e1d5",
   "metadata": {},
   "source": [
    "### Below are a few examples of evaluating arithmetic expressions in Python."
   ]
  },
  {
   "cell_type": "code",
   "execution_count": 5,
   "id": "1252bbe9-9d86-43c0-9d8c-1976a58597be",
   "metadata": {},
   "outputs": [],
   "source": [
    "##This a simple arithmetic expression to mutiply then add integers"
   ]
  },
  {
   "cell_type": "code",
   "execution_count": 6,
   "id": "756d27d9-a0cf-4f9d-b7df-80bc71c9575a",
   "metadata": {
    "tags": []
   },
   "outputs": [
    {
     "data": {
      "text/plain": [
       "17"
      ]
     },
     "execution_count": 6,
     "metadata": {},
     "output_type": "execute_result"
    }
   ],
   "source": [
    "(3*4)+5"
   ]
  },
  {
   "cell_type": "code",
   "execution_count": 7,
   "id": "04b0eab0-9ee9-457f-9c08-e1be696825cf",
   "metadata": {
    "tags": []
   },
   "outputs": [],
   "source": [
    "## This will convert 200 minutes to hours by diving by 60"
   ]
  },
  {
   "cell_type": "code",
   "execution_count": 8,
   "id": "d13c5983-977f-45bd-a20a-328e18fb426c",
   "metadata": {
    "tags": []
   },
   "outputs": [
    {
     "data": {
      "text/plain": [
       "3.3333333333333335"
      ]
     },
     "execution_count": 8,
     "metadata": {},
     "output_type": "execute_result"
    }
   ],
   "source": [
    "200/60"
   ]
  },
  {
   "cell_type": "markdown",
   "id": "4d73400c-018f-4113-854b-c2afe3491229",
   "metadata": {},
   "source": [
    "**Objectives**\n",
    "- Learn about APIs, libraries\n",
    "- Introduction to Jupyter notebooks\n",
    "- Introduction to R and RStudio\n",
    "- Introduction to Watson Studio"
   ]
  },
  {
   "cell_type": "markdown",
   "id": "7bf3a96e-f727-45cc-96f2-a3956690e184",
   "metadata": {},
   "source": [
    "## Author"
   ]
  },
  {
   "cell_type": "markdown",
   "id": "a24acefb-9e65-4a21-904c-362967cbc660",
   "metadata": {
    "tags": []
   },
   "source": [
    "Valentin"
   ]
  }
 ],
 "metadata": {
  "kernelspec": {
   "display_name": "Python",
   "language": "python",
   "name": "conda-env-python-py"
  },
  "language_info": {
   "codemirror_mode": {
    "name": "ipython",
    "version": 3
   },
   "file_extension": ".py",
   "mimetype": "text/x-python",
   "name": "python",
   "nbconvert_exporter": "python",
   "pygments_lexer": "ipython3",
   "version": "3.7.12"
  }
 },
 "nbformat": 4,
 "nbformat_minor": 5
}
